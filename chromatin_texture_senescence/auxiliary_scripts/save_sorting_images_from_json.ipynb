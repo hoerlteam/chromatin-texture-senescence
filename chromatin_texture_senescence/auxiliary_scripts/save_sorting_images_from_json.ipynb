{
 "cells": [
  {
   "cell_type": "code",
   "execution_count": null,
   "id": "90dd2f2c-8b26-4c5b-9e6b-b32eed3d9dce",
   "metadata": {},
   "outputs": [],
   "source": [
    "import glob\n",
    "import json\n",
    "import os\n",
    "from pathlib import Path\n",
    "\n",
    "import numpy as np\n",
    "import h5py\n",
    "import tqdm\n",
    "from skimage.io import imsave\n",
    "from skimage.exposure import rescale_intensity"
   ]
  },
  {
   "cell_type": "code",
   "execution_count": null,
   "id": "d8862918-71df-4a61-8ea6-08f760c9cf07",
   "metadata": {},
   "outputs": [],
   "source": [
    "root_dir = '/scratch/hoerl/auto_sir_dna_comp/'"
   ]
  },
  {
   "cell_type": "code",
   "execution_count": null,
   "id": "93b52791-7480-4bfa-bc59-9816f5a9a4d3",
   "metadata": {},
   "outputs": [],
   "source": [
    "with open(os.path.join(root_dir, 'sorting20211115.json'), 'r') as fd:\n",
    "    sorting_dict = json.load(fd)\n",
    "# sorting_dict"
   ]
  },
  {
   "cell_type": "code",
   "execution_count": null,
   "id": "e9d2a777-c7d4-4573-bc3a-792d5ce7d0d5",
   "metadata": {},
   "outputs": [],
   "source": [
    "in_files = glob.glob(os.path.join(root_dir, '*/*/*.h5'))\n",
    "stem_map = {Path(in_file).stem: in_file for in_file in in_files}"
   ]
  },
  {
   "cell_type": "code",
   "execution_count": null,
   "id": "137c4311-a988-4817-bab8-1e528545c1f4",
   "metadata": {},
   "outputs": [],
   "source": [
    "classes = ['good', 'bad']\n",
    "out_prefix = 'sorting_20211115_pngs'\n",
    "\n",
    "for cls in classes:\n",
    "    \n",
    "    outdir = Path(root_dir) / out_prefix / cls\n",
    "    if not outdir.exists():\n",
    "        outdir.mkdir(parents=True)\n",
    "    \n",
    "\n",
    "    for stem, dataset in tqdm.tqdm(sorting_dict[cls]):\n",
    "\n",
    "        with h5py.File(stem_map[stem], 'r') as fd:\n",
    "            img = fd[f'/experiment/{dataset}/0/0'][...].squeeze()\n",
    "            \n",
    "            img = rescale_intensity(img, tuple(np.quantile(img, (0.02, 0.995))), 'uint8').astype(np.uint8)\n",
    "    \n",
    "        imsave(str(outdir / f'{stem}_{dataset}.png'), img)"
   ]
  }
 ],
 "metadata": {
  "kernelspec": {
   "display_name": "Python 3",
   "language": "python",
   "name": "python3"
  },
  "language_info": {
   "codemirror_mode": {
    "name": "ipython",
    "version": 3
   },
   "file_extension": ".py",
   "mimetype": "text/x-python",
   "name": "python",
   "nbconvert_exporter": "python",
   "pygments_lexer": "ipython3",
   "version": "3.8.8"
  }
 },
 "nbformat": 4,
 "nbformat_minor": 5
}
