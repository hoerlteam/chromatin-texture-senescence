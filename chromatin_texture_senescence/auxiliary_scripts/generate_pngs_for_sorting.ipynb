{
 "cells": [
  {
   "cell_type": "code",
   "execution_count": null,
   "id": "b9077bfc-a9a7-4c7d-8935-aaa698fefb25",
   "metadata": {},
   "outputs": [],
   "source": [
    "import json\n",
    "import os\n",
    "from pathlib2 import Path\n",
    "\n",
    "import numpy as np\n",
    "import pandas as pd\n",
    "import h5py as h5\n",
    "import tqdm\n",
    "from skimage.io import imsave\n",
    "from skimage.exposure import rescale_intensity"
   ]
  },
  {
   "cell_type": "code",
   "execution_count": null,
   "id": "4a26a713-e202-4e72-be92-ab41c1f6879b",
   "metadata": {},
   "outputs": [],
   "source": [
    "# combine all samples < Oct. 2021 with newest samples\n",
    "\n",
    "df = pd.read_csv('/scratch/hoerl/auto_sir_dna_comp/20210903_glcm_all_extrafeats.csv')\n",
    "df_new = pd.read_csv('/scratch/hoerl/auto_sir_dna_comp/20211022_glcm_all_extrafeats.csv')"
   ]
  },
  {
   "cell_type": "code",
   "execution_count": null,
   "id": "95f8d3cc-7383-4b4d-8e9e-4eced9891370",
   "metadata": {},
   "outputs": [],
   "source": [
    "with open('/scratch/hoerl/auto_sir_dna_comp/sorting20210316.json', 'r') as fd:\n",
    "    sorting_dict = json.load(fd)\n",
    "sorting_dict\n",
    "\n",
    "def get_classification_from_dict(row, sorting_dict):\n",
    "    filename = os.path.split(row.filename)[1].replace('.h5', '')\n",
    "    dataset_name = row.dataset_name\n",
    "\n",
    "    if [filename, dataset_name] in sorting_dict['good']:\n",
    "        return 'good'\n",
    "    elif [filename, dataset_name] in sorting_dict['bad']:\n",
    "        return 'bad'\n",
    "    else:\n",
    "        return 'unclassified'\n",
    "\n",
    "df['classification_manual'] = df.apply(lambda row: get_classification_from_dict(row, sorting_dict), 1)"
   ]
  },
  {
   "cell_type": "code",
   "execution_count": null,
   "id": "519af281-7fa5-4049-b257-2b7411b0221a",
   "metadata": {},
   "outputs": [],
   "source": [
    "outdir = Path('/scratch/hoerl/auto_sir_dna_comp/sorting20211108')\n",
    "\n",
    "if not outdir.exists():\n",
    "    outdir.mkdir()\n",
    "    (outdir / 'good').mkdir()\n",
    "    (outdir / 'bad').mkdir()"
   ]
  },
  {
   "cell_type": "code",
   "execution_count": null,
   "id": "f783552e-16b6-4d95-8bc4-18ca33a6719b",
   "metadata": {},
   "outputs": [],
   "source": [
    "for i, r in tqdm.tqdm(df.iterrows(), total=len(df)):\n",
    "    if r.classification_manual != 'unclassified':\n",
    "        \n",
    "        # load from h5\n",
    "        with h5.File(r.filename, 'r') as fd:\n",
    "            img = fd[f'experiment/{r.dataset_name}/0/0'][...].squeeze()\n",
    "        \n",
    "        # rescale as we did in original feature ext\n",
    "        percs = (r.perc_low, r.perc_high)\n",
    "        img = rescale_intensity(img, percs, 'uint8').astype(np.uint8)\n",
    "        \n",
    "        out_filename = Path(r.filename).name.replace('.h5', '_') + r.dataset_name + '.png'\n",
    "        imsave(str(outdir / r.classification_manual / out_filename), img)"
   ]
  },
  {
   "cell_type": "code",
   "execution_count": null,
   "id": "a5a28784-6cbc-4d8d-86ac-ffb929153b15",
   "metadata": {},
   "outputs": [],
   "source": [
    "to_sample_total = 500\n",
    "sampled_old = 250"
   ]
  },
  {
   "cell_type": "code",
   "execution_count": null,
   "id": "807b468c-2a08-4ab4-9901-13ed5404253f",
   "metadata": {},
   "outputs": [],
   "source": [
    "# save new sample\n",
    "new_sample = df[df.classification_manual == 'unclassified'].append(df_new).sample(to_sample_total - sampled_old)\n",
    "\n",
    "for i, r in tqdm.tqdm(new_sample.iterrows(), total=(to_sample_total - sampled_old)):\n",
    "    # load from h5\n",
    "    with h5.File(r.filename, 'r') as fd:\n",
    "        img = fd[f'experiment/{r.dataset_name}/0/0'][...].squeeze()\n",
    "\n",
    "    # rescale as we did in original feature ext\n",
    "    percs = (r.perc_low, r.perc_high)\n",
    "    img = rescale_intensity(img, percs, 'uint8').astype(np.uint8)\n",
    "\n",
    "    out_filename = Path(r.filename).name.replace('.h5', '_') + r.dataset_name + '.png'\n",
    "    imsave(str(outdir / out_filename), img)"
   ]
  }
 ],
 "metadata": {
  "kernelspec": {
   "display_name": "Python 3",
   "language": "python",
   "name": "python3"
  },
  "language_info": {
   "codemirror_mode": {
    "name": "ipython",
    "version": 3
   },
   "file_extension": ".py",
   "mimetype": "text/x-python",
   "name": "python",
   "nbconvert_exporter": "python",
   "pygments_lexer": "ipython3",
   "version": "3.8.8"
  }
 },
 "nbformat": 4,
 "nbformat_minor": 5
}
