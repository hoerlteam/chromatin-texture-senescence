{
 "cells": [
  {
   "cell_type": "code",
   "execution_count": null,
   "metadata": {},
   "outputs": [],
   "source": [
    "import glob\n",
    "import subprocess\n",
    "from itertools import count"
   ]
  },
  {
   "attachments": {},
   "cell_type": "markdown",
   "metadata": {},
   "source": [
    "## Call BigStitcher to stitch overview tiles"
   ]
  },
  {
   "cell_type": "code",
   "execution_count": null,
   "metadata": {},
   "outputs": [],
   "source": [
    "\n",
    "from collections import defaultdict\n",
    "from pathlib import Path\n",
    "\n",
    "# make map folder -> number of tiles (need to know for stack-based ImgLaoder)\n",
    "folders_to_count = defaultdict(int)\n",
    "\n",
    "for tile in glob.glob('C:/Users/david/Desktop/20230507_imr90_stitching/**/tile_*.tif', recursive=True):\n",
    "    folders_to_count[Path(tile).parent] += 1\n",
    "\n",
    "folders_to_count"
   ]
  },
  {
   "cell_type": "code",
   "execution_count": null,
   "metadata": {},
   "outputs": [],
   "source": [
    "# run BigStitcher via Fiji subprocess and macro\n",
    "\n",
    "script_path = 'C:/Users/david/Desktop/bigstitcher_overview_stitch.ijm'\n",
    "\n",
    "for root_dir, n_tiles in folders_to_count.items():\n",
    "\n",
    "    params = f\"dir='{root_dir.as_posix()}',n_tiles={n_tiles}\"\n",
    "    fiji_call = f'C:/Users/david/Desktop/Fiji.app/ImageJ-win64.exe --headless --ij2 --run {script_path} {params}'\n",
    "\n",
    "    res = subprocess.run(fiji_call.split(' '), capture_output=True)\n",
    "    print(f'{root_dir.as_posix()}: DONE')"
   ]
  },
  {
   "attachments": {},
   "cell_type": "markdown",
   "metadata": {},
   "source": [
    "## Move stitched overviews to single folder"
   ]
  },
  {
   "cell_type": "code",
   "execution_count": null,
   "metadata": {},
   "outputs": [],
   "source": [
    "import shutil\n",
    "\n",
    "fused_imgs = glob.glob('/Users/david/Desktop/20230507_imr90_stitching/**/fused.tif', recursive=True)\n",
    "\n",
    "out_base_path = Path('H:/20230507_imr90_ov_stitch_output')\n",
    "\n",
    "for fused_img in fused_imgs:\n",
    "    out_path = out_base_path / (Path(fused_img).parent.name + '.tif')\n",
    "    shutil.copy(fused_img, out_path)"
   ]
  },
  {
   "attachments": {},
   "cell_type": "markdown",
   "metadata": {},
   "source": [
    "## Make BigStitcher tileConfic\n",
    "\n",
    "in tile_configs created by ```overview_extraction_from_h5.ipynb``` replace filename with number (ViewSetupId)"
   ]
  },
  {
   "cell_type": "code",
   "execution_count": null,
   "metadata": {},
   "outputs": [],
   "source": [
    "\n",
    "confs = glob.glob('/Users/david/Desktop/20230507_imr90_stitching/**/tile_config.txt', recursive=True)\n",
    "\n",
    "for conf in confs:\n",
    "\n",
    "    ctr = count()\n",
    "    out_lines = []\n",
    "    with open(conf) as fd:\n",
    "        for line in fd.readlines():\n",
    "            if 'tile' in line:\n",
    "                _, rest = line.split(';', 1)\n",
    "                out_lines.append(f'{next(ctr)};{rest}')\n",
    "            else:\n",
    "                out_lines.append(line)\n",
    "    out_lines\n",
    "\n",
    "    with open(conf.replace('tile_config.txt', 'tile_config_bigstitcher.txt'), 'w') as fd:\n",
    "        fd.writelines(out_lines)"
   ]
  }
 ],
 "metadata": {
  "kernelspec": {
   "display_name": "anaconda-py38",
   "language": "python",
   "name": "python3"
  },
  "language_info": {
   "codemirror_mode": {
    "name": "ipython",
    "version": 3
   },
   "file_extension": ".py",
   "mimetype": "text/x-python",
   "name": "python",
   "nbconvert_exporter": "python",
   "pygments_lexer": "ipython3",
   "version": "3.8.8"
  },
  "orig_nbformat": 4
 },
 "nbformat": 4,
 "nbformat_minor": 2
}
