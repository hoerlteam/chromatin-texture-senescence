{
 "cells": [
  {
   "cell_type": "code",
   "execution_count": null,
   "metadata": {},
   "outputs": [],
   "source": [
    "from skimage.feature import greycomatrix, greycoprops\n",
    "from sklearn.decomposition import PCA\n",
    "import pandas as pd\n",
    "from collections import defaultdict\n",
    "import random\n",
    "import numpy as np\n",
    "from skimage.io import imread\n",
    "import matplotlib.pyplot as plt\n",
    "import glob\n",
    "import seaborn as sns"
   ]
  },
  {
   "cell_type": "code",
   "execution_count": null,
   "metadata": {},
   "outputs": [],
   "source": [
    "test_fstrig = '/scratch/hoerl/dna_sir_ageing/data/{}/*.png'\n",
    "clss = ['yng_ut_1', 'yng_ut_2', 'yng_ut_3', 'old_ut1', 'old_ut2', 'old_ut3']\n",
    "\n",
    "dists = np.arange(0, 30, 2).astype(np.int)\n",
    "#angles = np.linspace(0, np.pi/2, 10)\n",
    "angles = [0, np.pi/2]\n",
    "n_sample = 200\n",
    "props = ['contrast', 'dissimilarity', 'homogeneity', 'ASM', 'energy', 'correlation']\n",
    "res = defaultdict(list)\n",
    "\n",
    "for cls in clss:\n",
    "    test_files = glob.glob(test_fstrig.format(cls))\n",
    "    #for test_file in test_files:\n",
    "    for test_file in random.sample(test_files, n_sample):\n",
    "        img = imread(test_file)\n",
    "        gcm = greycomatrix(img, dists, angles, symmetric=True)\n",
    "        fts = np.array([greycoprops(gcm, p) for p in props])\n",
    "        res['feats'].append(fts.ravel())\n",
    "        res['cls'].append(cls)\n",
    "\n",
    "pca = PCA()\n",
    "tr = pca.fit_transform(np.array(res['feats']))\n",
    "\n",
    "res['pc0'] = tr[:,0]\n",
    "res['pc1'] = tr[:,1]\n",
    "\n",
    "#plt.plot(tr[:n_sample,0], tr[:n_sample,1], '*')\n",
    "#plt.plot(tr[n_sample:,0], tr[n_sample:,1], '*')\n",
    "\n",
    "df = pd.DataFrame.from_dict(res)\n",
    "\n",
    "plt.figure(figsize=(10,10))\n",
    "sns.scatterplot(data=df, x='pc0', y='pc1', hue='cls')"
   ]
  }
 ],
 "metadata": {
  "kernelspec": {
   "display_name": "Python 3",
   "language": "python",
   "name": "python3"
  },
  "language_info": {
   "codemirror_mode": {
    "name": "ipython",
    "version": 3
   },
   "file_extension": ".py",
   "mimetype": "text/x-python",
   "name": "python",
   "nbconvert_exporter": "python",
   "pygments_lexer": "ipython3",
   "version": "3.7.3"
  }
 },
 "nbformat": 4,
 "nbformat_minor": 4
}
