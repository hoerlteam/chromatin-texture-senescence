{
 "cells": [
  {
   "cell_type": "code",
   "execution_count": null,
   "id": "4100a220-e103-4fab-b6c1-9fbc9d5b63b0",
   "metadata": {},
   "outputs": [],
   "source": [
    "import numpy as np\n",
    "from skimage.io import imread\n",
    "from skimage.feature import greycomatrix, local_binary_pattern\n",
    "from skimage.exposure import rescale_intensity\n",
    "from matplotlib import pyplot as plt\n",
    "from scipy import ndimage as ndi"
   ]
  },
  {
   "cell_type": "code",
   "execution_count": null,
   "id": "ce548469-66c5-401c-9d9e-6b7793b9ee1c",
   "metadata": {},
   "outputs": [],
   "source": [
    "img = imread('/scratch/hoerl/auto_sir_dna_comp/sorting20211108/069251b48328f1f51e3ff8d23e6e6173_overview370_detail0.png')"
   ]
  },
  {
   "cell_type": "code",
   "execution_count": null,
   "id": "17ebed10-bacb-4da0-afad-d1d2b4bb1f31",
   "metadata": {},
   "outputs": [],
   "source": [
    "plt.imshow(img)\n",
    "img.max(), img.min()\n",
    "np.unique(img)"
   ]
  },
  {
   "cell_type": "code",
   "execution_count": null,
   "id": "c23d3f43-32c6-4114-bceb-303abbd37985",
   "metadata": {},
   "outputs": [],
   "source": [
    "img2 = ndi.gaussian_filter(img, 0.8)\n",
    "img2 = rescale_intensity(img2, out_range='uint8').astype(np.uint8)\n",
    "glcm = greycomatrix(img2, [15], [np.pi/2])\n",
    "plt.imshow(glcm.squeeze()[:100,:100], cmap='Reds')"
   ]
  },
  {
   "cell_type": "code",
   "execution_count": null,
   "id": "773f8797-86ae-4a5c-bbb5-1806504455e3",
   "metadata": {},
   "outputs": [],
   "source": [
    "lbp = local_binary_pattern(img, 16, 3, method='uniform')\n",
    "\n",
    "plt.figure(figsize=(10,10))\n",
    "plt.imshow(lbp)\n",
    "# plt.hist(lbp.ravel(), density=True, bins=16+2)\n",
    "\n",
    "\n",
    "np.unique(lbp).shape"
   ]
  },
  {
   "cell_type": "markdown",
   "id": "21ff7a8c-8cfa-49a6-b78a-1c8d482782a8",
   "metadata": {},
   "source": [
    "## 15.11.2021: New sorting to JSON"
   ]
  },
  {
   "cell_type": "code",
   "execution_count": null,
   "id": "8bd835f6-2436-4f6d-966d-7ff3b349fbe3",
   "metadata": {},
   "outputs": [],
   "source": [
    "import glob\n",
    "\n",
    "# collect good/bad/questionable sortings\n",
    "# NB: ?ad/?ood for case insensitivity\n",
    "bad_imgs = set(glob.glob('/data/cooperation_data/ArgyrisPapantonis-nuclear_architecture/Sorting data_all/**/?ad/*.png', recursive=True))\n",
    "good_imgs = set(glob.glob('/data/cooperation_data/ArgyrisPapantonis-nuclear_architecture/Sorting data_all/**/?ood/*.png', recursive=True))\n",
    "questionable_imgs = set(glob.glob('/data/cooperation_data/ArgyrisPapantonis-nuclear_architecture/Sorting data_all/Questionable/*.png'))\n",
    "\n",
    "# check that we have all 500 imgs\n",
    "len(bad_imgs | good_imgs | questionable_imgs)"
   ]
  },
  {
   "cell_type": "code",
   "execution_count": null,
   "id": "38a5ebf6-ab5b-425c-994a-b24392cf9d86",
   "metadata": {},
   "outputs": [],
   "source": [
    "import os\n",
    "import re\n",
    "import json\n",
    "from itertools import chain, repeat\n",
    "from collections import defaultdict\n",
    "\n",
    "res = defaultdict(list)\n",
    "\n",
    "for classification, img_path in chain(zip(repeat('bad'), bad_imgs), zip(repeat('good'), good_imgs)):\n",
    "\n",
    "    img_filename = os.path.split(img_path)[1]\n",
    "    file, dataset = re.match('(.*?)_(overview.*?_detail.*?)\\.png', img_filename).groups()\n",
    "    res[classification].append((file, dataset))\n",
    "    \n",
    "# res"
   ]
  },
  {
   "cell_type": "code",
   "execution_count": null,
   "id": "ea4a4e70-2fe9-4925-a4ed-57f63420c1ac",
   "metadata": {},
   "outputs": [],
   "source": [
    "with open('/scratch/hoerl/auto_sir_dna_comp/sorting20211115.json', 'w') as fd:\n",
    "    json.dump(res, fd, indent=1)"
   ]
  }
 ],
 "metadata": {
  "kernelspec": {
   "display_name": "Python 3",
   "language": "python",
   "name": "python3"
  },
  "language_info": {
   "codemirror_mode": {
    "name": "ipython",
    "version": 3
   },
   "file_extension": ".py",
   "mimetype": "text/x-python",
   "name": "python",
   "nbconvert_exporter": "python",
   "pygments_lexer": "ipython3",
   "version": "3.8.8"
  }
 },
 "nbformat": 4,
 "nbformat_minor": 5
}
