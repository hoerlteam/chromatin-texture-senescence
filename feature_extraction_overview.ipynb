{
 "cells": [
  {
   "cell_type": "code",
   "execution_count": null,
   "id": "d53a2b49-8ca6-49f6-a2fb-2fc2b3f9a96e",
   "metadata": {},
   "outputs": [],
   "source": [
    "from pathlib import Path\n",
    "\n",
    "import numpy as np\n",
    "import pandas as pd\n",
    "from nd2reader import ND2Reader\n",
    "from tifffile import imread\n",
    "from matplotlib import pyplot as plt\n",
    "from skimage.measure import regionprops\n",
    "from scipy.ndimage import gaussian_filter\n",
    "\n",
    "from glcm_utils import get_glcm_feature_names, get_glcm_features_masked, get_glcm_features_per_label\n",
    "from glcm_utils import DEFAULT_PROPERTIES, _get_uint_dtype_for_masked_img"
   ]
  },
  {
   "attachments": {},
   "cell_type": "markdown",
   "id": "d486f1be-48a0-45fe-ab8a-81c5f0052956",
   "metadata": {},
   "source": [
    "# Get GLCM features for IMR90 overview or spinning disk data\n",
    "\n",
    "## 1) load images and masks"
   ]
  },
  {
   "cell_type": "code",
   "execution_count": null,
   "id": "dbe6dd97-3c93-4620-8fae-62af8f900a7d",
   "metadata": {},
   "outputs": [],
   "source": [
    "## Spinning disk (only ctrl)\n",
    "# base_path = Path('/data/cooperation_data/ArgyrisPapantonis-nuclear_architecture/Hartmann_Harz/IMR90_30112022/')\n",
    "# seg_path = base_path / 'segmentation_cellpose_d120_ft06'\n",
    "# img_files = sorted(base_path.glob('*.nd2'))\n",
    "\n",
    "## Stitched overviews\n",
    "base_path = Path('/scratch/hoerl/20230507_imr90_stitching/20230507_imr90_ov_stitch_output/')\n",
    "seg_path = base_path / 'segmentation_cellpose_maxproj_d70_ft07'\n",
    "img_files = sorted(base_path.glob('*.tif'))\n",
    "\n",
    "# img_files"
   ]
  },
  {
   "cell_type": "code",
   "execution_count": null,
   "id": "635a45cf",
   "metadata": {},
   "outputs": [],
   "source": [
    "imgs, masks = [], []\n",
    "for img_file, mask_file in zip(img_files, sorted(seg_path.glob('*.tif'))):\n",
    "\n",
    "    if img_file.suffix == '.nd2':\n",
    "        with ND2Reader(str(img_file)) as reader:\n",
    "            img = np.array(reader[0])\n",
    "    elif img_file.suffix == '.tif':\n",
    "        img = imread(img_file).max(axis=0)\n",
    "\n",
    "    imgs.append(img)\n",
    "    masks.append(imread(mask_file))\n",
    "    print(f'loaded {img_file}')"
   ]
  },
  {
   "attachments": {},
   "cell_type": "markdown",
   "id": "9c7b01b3-292a-4f4d-921c-72feb5fee952",
   "metadata": {},
   "source": [
    "## 2) Normalize images"
   ]
  },
  {
   "cell_type": "code",
   "execution_count": null,
   "id": "d7cce591-d149-471c-a539-c8e796952527",
   "metadata": {},
   "outputs": [],
   "source": [
    "def normalize(arr, min_, max_):\n",
    "    '''\n",
    "    non-clipping linear normalization, min_ will be set to 0, max_ to 1 in the output \n",
    "    '''\n",
    "    return (arr - min_) / (max_ - min_)\n",
    "\n",
    "# intensity normalization per object \n",
    "def normalize_per_object(img, mask):\n",
    "    img = img.copy().astype(np.float32)\n",
    "    for rprop in regionprops(mask, img):\n",
    "        img[rprop.slice][rprop.image] -= rprop.min_intensity\n",
    "        img[rprop.slice][rprop.image] /= (rprop.max_intensity - rprop.min_intensity)\n",
    "    return img"
   ]
  },
  {
   "cell_type": "code",
   "execution_count": null,
   "id": "ad982e78",
   "metadata": {},
   "outputs": [],
   "source": [
    "percentiles=(2.5, 99.8)\n",
    "\n",
    "imgs_normalized = []\n",
    "for img in imgs:\n",
    "    mi, ma = np.percentile(img[img>0], percentiles)\n",
    "    # normalize imgs\n",
    "    img = gaussian_filter(img, 0.5)\n",
    "    imgs_normalized.append(normalize(img, mi, ma))\n",
    "\n",
    "imgs_normalized_perobject = []\n",
    "for img, mask in zip(imgs, masks):\n",
    "    imgs_normalized_perobject.append(normalize_per_object(img, mask))"
   ]
  },
  {
   "attachments": {},
   "cell_type": "markdown",
   "id": "54f373b8-3a47-4434-920b-346439b407b3",
   "metadata": {},
   "source": [
    "## 3) GLCM features"
   ]
  },
  {
   "cell_type": "code",
   "execution_count": null,
   "id": "dafed421-7feb-478e-bec7-b816def2093a",
   "metadata": {},
   "outputs": [],
   "source": [
    "distances = [2, 4, 8, 16]\n",
    "angles = [0, np.pi/2]\n",
    "\n",
    "df_texture = pd.DataFrame()\n",
    "\n",
    "for idx in range(len(imgs)):\n",
    "\n",
    "    img_for_glcm = imgs_normalized[idx]\n",
    "\n",
    "    ## Alternative: use per-object normalized -> 0.5px blur has not been applied yet\n",
    "    # img_for_glcm = imgs_normalized_perobject[idx]\n",
    "    # img_for_glcm = gaussian_filter(img_for_glcm, 0.5)\n",
    "\n",
    "    dfi = pd.DataFrame.from_dict(get_glcm_features_per_label(img_for_glcm, masks[idx], distances, angles))\n",
    "    dfi['file'] = img_files[idx].name\n",
    "\n",
    "    if len(dfi) > 0:\n",
    "        df_texture = df_texture.append(dfi.set_index(['file', 'label']))\n",
    "\n",
    "df_texture.columns = [\"tex_\" + c for c in df_texture.columns]"
   ]
  },
  {
   "cell_type": "code",
   "execution_count": null,
   "id": "4ae50765",
   "metadata": {},
   "outputs": [],
   "source": [
    "df_texture"
   ]
  },
  {
   "cell_type": "code",
   "execution_count": null,
   "id": "43e04cb0-7f68-4fcd-8113-afd4dc3a6f99",
   "metadata": {},
   "outputs": [],
   "source": [
    "df_texture.to_csv(seg_path / 'texture_feats.csv')\n",
    "# df_texture.to_csv(seg_path / 'texture_feats_normalized_per_cell.csv')"
   ]
  },
  {
   "attachments": {},
   "cell_type": "markdown",
   "id": "5deb54c1-373e-4a70-b86c-ded5a092d29d",
   "metadata": {},
   "source": [
    "## 4) Shape / intensity features"
   ]
  },
  {
   "cell_type": "code",
   "execution_count": null,
   "id": "10b5511c-6124-4276-9a79-7d59e3ba5b2e",
   "metadata": {},
   "outputs": [],
   "source": [
    "from skimage.measure import regionprops_table\n",
    "\n",
    "props_to_extract = ('label', 'area', 'eccentricity', 'mean_intensity', 'bbox')\n",
    "\n",
    "df_other = pd.DataFrame()\n",
    "\n",
    "for idx in range(len(imgs)):\n",
    "    dfi = pd.DataFrame.from_dict(regionprops_table(masks[idx], imgs_normalized[idx], props_to_extract))\n",
    "    dfi['file'] = img_files[idx].name\n",
    "\n",
    "    if len(dfi) > 0:\n",
    "        df_other = df_other.append(dfi.set_index(['file', 'label']))\n",
    "    \n",
    "df_other.columns = [\"other_\" + c for c in df_other.columns]"
   ]
  },
  {
   "cell_type": "code",
   "execution_count": null,
   "id": "18114ed0",
   "metadata": {},
   "outputs": [],
   "source": [
    "df_other"
   ]
  },
  {
   "cell_type": "code",
   "execution_count": null,
   "id": "613993f8-a59e-4d8a-8259-1a689f60845c",
   "metadata": {},
   "outputs": [],
   "source": [
    "df_other.to_csv(seg_path / 'other_feats.csv')"
   ]
  },
  {
   "attachments": {},
   "cell_type": "markdown",
   "id": "73cc2083",
   "metadata": {},
   "source": [
    "# Testing code"
   ]
  },
  {
   "cell_type": "code",
   "execution_count": null,
   "id": "12ec6379-c168-4f0f-9d3d-f7911d3286d9",
   "metadata": {},
   "outputs": [],
   "source": [
    "# test dtype for GLCM\n",
    "_get_uint_dtype_for_masked_img(2**32-1), _get_uint_dtype_for_masked_img(2**32)"
   ]
  },
  {
   "cell_type": "code",
   "execution_count": null,
   "id": "4b172ab6-fd01-48ce-8efd-fdbe45c5560e",
   "metadata": {},
   "outputs": [],
   "source": [
    "# GLCM feature options\n",
    "props = DEFAULT_PROPERTIES\n",
    "\n",
    "distances = [2, 4, 7, 12, 16]\n",
    "angles = [0, np.pi/2]\n",
    "\n",
    "get_glcm_feature_names(distances, angles, props)"
   ]
  },
  {
   "attachments": {},
   "cell_type": "markdown",
   "id": "0f8e73e3-bf54-4012-ba7b-0db467e9f025",
   "metadata": {},
   "source": [
    "### Simulate simple objects with varying texure"
   ]
  },
  {
   "cell_type": "code",
   "execution_count": null,
   "id": "d7ea8402-9e7c-4738-8fba-fbe0dcf4b1c0",
   "metadata": {},
   "outputs": [],
   "source": [
    "shape = (512, 512)\n",
    "\n",
    "radii = [30, 40, 50]\n",
    "coords = [\n",
    "    [124, 421],\n",
    "    [421, 421],\n",
    "    [256, 210],\n",
    "]\n",
    "\n",
    "lab = np.zeros(shape, dtype=int)\n",
    "img = np.zeros(shape, dtype=np.float32)\n",
    "\n",
    "# select circlular area of each object\n",
    "for i, (r, x) in enumerate(zip(radii, coords), 1):\n",
    "    sel = np.linalg.norm(np.stack(np.meshgrid(*(np.arange(s) for s in lab.shape)), -1) - np.array(x), axis=-1) < r\n",
    "    lab[sel] = i\n",
    "\n",
    "\n",
    "# range for uniform random values within each object\n",
    "ranges = [\n",
    "    [0.4, 0.5],\n",
    "    [0.4, 0.5],\n",
    "    [0.1, 0.8],\n",
    "]\n",
    "    \n",
    "for r, (mi, ma) in zip(regionprops(lab, img), ranges):\n",
    "    img[r.slice][r.image] = np.random.uniform(mi, ma, np.sum(r.image))\n",
    "\n",
    "fig, axs = plt.subplots(ncols=2)\n",
    "axs[0].imshow(lab)\n",
    "axs[1].imshow(img)"
   ]
  },
  {
   "cell_type": "code",
   "execution_count": null,
   "id": "fceed111",
   "metadata": {},
   "outputs": [],
   "source": [
    "# test intensity normalization per object\n",
    "\n",
    "img_norm = normalize_per_object(img, lab)\n",
    "fig, axs = plt.subplots(ncols=2)\n",
    "axs[0].imshow(img)\n",
    "axs[1].imshow(img_norm)"
   ]
  },
  {
   "attachments": {},
   "cell_type": "markdown",
   "id": "ec8ae327-fb5f-491b-9ac8-3ddafcf6d2be",
   "metadata": {},
   "source": [
    "### Test GLCM calculation per object"
   ]
  },
  {
   "cell_type": "code",
   "execution_count": null,
   "id": "c9fa3fc2-d3d8-4601-95ff-ed485e996367",
   "metadata": {},
   "outputs": [],
   "source": [
    "res = get_glcm_features_per_label(img, lab, distances=[2], n_bins=64)\n",
    "pd.DataFrame.from_dict(res).set_index('label')"
   ]
  },
  {
   "cell_type": "code",
   "execution_count": null,
   "id": "64377cc7-349e-4766-a79a-3ff97d53a529",
   "metadata": {},
   "outputs": [],
   "source": [
    "# check for error on empty GLCM\n",
    "# distance > image size\n",
    "\n",
    "res = get_glcm_features_per_label(img, lab, distances=[513], n_bins=64)\n",
    "pd.DataFrame.from_dict(res).set_index('label')"
   ]
  }
 ],
 "metadata": {
  "kernelspec": {
   "display_name": "anaconda-py38",
   "language": "python",
   "name": "python3"
  },
  "language_info": {
   "codemirror_mode": {
    "name": "ipython",
    "version": 3
   },
   "file_extension": ".py",
   "mimetype": "text/x-python",
   "name": "python",
   "nbconvert_exporter": "python",
   "pygments_lexer": "ipython3",
   "version": "3.8.8"
  },
  "vscode": {
   "interpreter": {
    "hash": "00453e6b23e592fd985b221f7a2ff9a867d70202f05b902cf3ca1018caf28742"
   }
  }
 },
 "nbformat": 4,
 "nbformat_minor": 5
}
