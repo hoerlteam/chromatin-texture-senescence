{
 "cells": [
  {
   "cell_type": "markdown",
   "metadata": {},
   "source": [
    "# Boxplots of individual features\n",
    "\n",
    "Create boxplots of features from confocal overviews"
   ]
  },
  {
   "cell_type": "code",
   "execution_count": null,
   "metadata": {},
   "outputs": [],
   "source": [
    "from pathlib import Path\n",
    "\n",
    "import pandas as pd\n",
    "import seaborn as sns\n",
    "import numpy as np\n",
    "from matplotlib import colors as mcolors\n",
    "from matplotlib import pyplot as plt\n",
    "import pingouin as pg"
   ]
  },
  {
   "cell_type": "code",
   "execution_count": null,
   "metadata": {},
   "outputs": [],
   "source": [
    "## 1) read feature tables\n",
    "\n",
    "# filenames\n",
    "csv_feats_texture = 'data/texture_feats.csv'\n",
    "csv_feats_other = 'data/other_feats.csv'\n",
    "exp_overview_csv = 'data/auto_sir_experiment_overview.csv'\n",
    "\n",
    "# join texture and other features\n",
    "df = pd.read_csv(csv_feats_texture).set_index(['file', 'label'])\n",
    "df = df.merge(pd.read_csv(csv_feats_other), on=['file', 'label'])\n",
    "\n",
    "# get experiment overview table (replicates, conditions, etc.), join as well\n",
    "df_exp_overview = pd.read_csv(exp_overview_csv, sep=';')[['file', 'treatment', 'replicate_technical', 'replicate_biological', 'overlapping_tiles']]\n",
    "df['file_stem'] = df.reset_index().file.apply(lambda f: Path(f).stem)\n",
    "df = df.merge(df_exp_overview, left_on='file_stem', right_on='file', suffixes=(None, '_duplicate') )\n",
    "\n",
    "# interpret replicate numbers as strings/categorical\n",
    "df['replicate_technical'] = df['replicate_technical'].apply(str)\n",
    "df['replicate_biological'] = df['replicate_biological'].apply(str)\n",
    "\n",
    "df['treatment_icm_grouped'] = df.treatment.str.split('_').str[-1]\n",
    "df['replicate_biological_with_treat'] = df['treatment'] + '_' + df['replicate_biological']\n",
    "\n",
    "# add column grouping 3d icm and 6&9d icm separately \n",
    "treatment_map = {\n",
    "    'old': 'old',\n",
    "    'young': 'young',\n",
    "    '3d_icm': '3d_icm',\n",
    "    '6d_icm': '6d_9d_icm',\n",
    "    '9d_icm': '6d_9d_icm',\n",
    "}\n",
    "df['treatment_icm_grouped_2'] = df.treatment.apply(lambda t: treatment_map[t])\n",
    "\n",
    "# remove non-overlapping overviews (run 3f2f7d32d280ce05293143834aa15a08)\n",
    "df = df[df.overlapping_tiles]\n",
    "\n",
    "df.info()"
   ]
  },
  {
   "cell_type": "code",
   "execution_count": null,
   "metadata": {},
   "outputs": [],
   "source": [
    "## 2) plot boxplot of selected features\n",
    "\n",
    "# condition order and colors\n",
    "order = ['young', 'old', '3d_icm', '6d_9d_icm']\n",
    "palette_d = {\n",
    "    'old': np.array([117, 109, 169])/255,\n",
    "    'young': mcolors.hex2color(mcolors.XKCD_COLORS['xkcd:light orange']),\n",
    "    '3d_icm': mcolors.hex2color(mcolors.XKCD_COLORS['xkcd:sky blue']),\n",
    "    '6d_9d_icm': np.array([148, 212, 220])/255\n",
    "}\n",
    "palette = [palette_d[condition] for condition in order]\n",
    "\n",
    "# what to plot & plot parameters\n",
    "to_plot = (\n",
    "    {'feature':'other_area', 'logy':False, 'title':'Cell area', 'ylabel':'area[px^2]'},\n",
    "    {'feature':'other_eccentricity', 'logy':False, 'title':'Cell eccentricity', 'ylabel':'eccentricity'},\n",
    "    {'feature':'tex_energy_4_0.0', 'logy':True, 'title':'Energy of GLCM\\nat 4px distance along x-axis', 'ylabel':'GLCM Energy (log scale)'},\n",
    "    {'feature':'tex_dissimilarity_2_90.0', 'logy':False, 'title':'Dissimilarity of GLCM\\nat 2px distance along y-axis', 'ylabel':'GLCM Dissimilarity'},\n",
    ")\n",
    "\n",
    "siz = 5\n",
    "fig, axs = plt.subplots(ncols=len(to_plot), figsize=(siz * len(to_plot), siz))\n",
    "\n",
    "for args, ax in zip(to_plot, axs):\n",
    "\n",
    "    feature, log_y, title, ylab = args.values()\n",
    "\n",
    "    # drop lowest and highest .5% of data to make nicer plot\n",
    "    ql, qu = np.quantile(df[feature], (0.005, 0.995))\n",
    "    df_plot = df[ (df[feature] > ql) & (df[feature] < qu) ]\n",
    "\n",
    "    sns.boxplot(ax=ax, data=df_plot, y=feature, x='treatment_icm_grouped_2', hue='treatment_icm_grouped_2', log_scale=(False, log_y),  order=order, palette=palette,\n",
    "                flierprops = {'marker': '+', 'markersize': 5, 'alpha':0.2})\n",
    "\n",
    "    ax.set_xlabel('Condition')\n",
    "    ax.set_ylabel(ylab)\n",
    "    ax.set_title(title)\n",
    "\n",
    "fig.tight_layout()\n",
    "\n",
    "# fig.savefig('example_feature_boxplots.pdf')"
   ]
  },
  {
   "cell_type": "code",
   "execution_count": null,
   "metadata": {},
   "outputs": [],
   "source": [
    "## 3) do pairwise significance tests for plots above\n",
    "\n",
    "res = []\n",
    "for args in to_plot:\n",
    "    feature, log_y, title, ylab = args.values()\n",
    "\n",
    "    # does Mann-Whitney-U test (parametric=False), with Bonferroni-Holm correction (padjust='holm')\n",
    "    df_significance_i = pg.pairwise_tests(data=df, dv=feature, between='treatment_icm_grouped_2', parametric=False, padjust='holm')\n",
    "    # add feature that was compared to result table\n",
    "    df_significance_i['feature'] = feature\n",
    "    res.append(df_significance_i)\n",
    "\n",
    "# combine results into one table, show\n",
    "df_significance = pd.concat(res)\n",
    "df_significance"
   ]
  }
 ],
 "metadata": {
  "kernelspec": {
   "display_name": "anaconda-v11",
   "language": "python",
   "name": "python3"
  },
  "language_info": {
   "codemirror_mode": {
    "name": "ipython",
    "version": 3
   },
   "file_extension": ".py",
   "mimetype": "text/x-python",
   "name": "python",
   "nbconvert_exporter": "python",
   "pygments_lexer": "ipython3",
   "version": "3.11.6"
  }
 },
 "nbformat": 4,
 "nbformat_minor": 2
}
