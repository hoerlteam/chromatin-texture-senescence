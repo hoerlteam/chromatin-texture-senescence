{
 "cells": [
  {
   "cell_type": "code",
   "execution_count": null,
   "metadata": {},
   "outputs": [],
   "source": [
    "import os\n",
    "import json"
   ]
  },
  {
   "cell_type": "code",
   "execution_count": null,
   "metadata": {},
   "outputs": [],
   "source": [
    "unsorted_dir = '/Users/david/Downloads/sorting20210316_originalcopy/'\n",
    "sorted_dir = '/Users/david/Downloads/sorting20210316_badremoved/'"
   ]
  },
  {
   "cell_type": "code",
   "execution_count": null,
   "metadata": {},
   "outputs": [],
   "source": [
    "all_ids_unsorted = sorted([f.replace('.png', '').split('_', 1) for f in os.listdir(unsorted_dir) if not f.startswith('.')])\n",
    "ids_good = sorted([f.replace('.png', '').split('_', 1) for f in os.listdir(sorted_dir) if not f.startswith('.')])\n",
    "ids_bad = [i for i in all_ids_unsorted if i not in ids_good]\n",
    "ids_bad\n",
    "\n",
    "sorting = {\n",
    "    'good': ids_good,\n",
    "    'bad': ids_bad\n",
    "}"
   ]
  },
  {
   "cell_type": "code",
   "execution_count": null,
   "metadata": {},
   "outputs": [],
   "source": [
    "out_file = '/Users/david/Desktop/sorting20210316.json'\n",
    "with open(out_file, 'w') as fd:\n",
    "    json.dump(sorting, fd, indent=1)"
   ]
  }
 ],
 "metadata": {
  "kernelspec": {
   "display_name": "Python 3",
   "language": "python",
   "name": "python3"
  },
  "language_info": {
   "codemirror_mode": {
    "name": "ipython",
    "version": 3
   },
   "file_extension": ".py",
   "mimetype": "text/x-python",
   "name": "python",
   "nbconvert_exporter": "python",
   "pygments_lexer": "ipython3",
   "version": "3.8.5"
  }
 },
 "nbformat": 4,
 "nbformat_minor": 4
}