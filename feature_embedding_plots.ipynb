{
 "cells": [
  {
   "cell_type": "code",
   "execution_count": null,
   "id": "1aa514df-182f-4a66-9a63-afe1a9753b8c",
   "metadata": {},
   "outputs": [],
   "source": [
    "from pathlib import Path\n",
    "\n",
    "import numpy as np\n",
    "import seaborn as sns\n",
    "import pandas as pd\n",
    "from matplotlib import pyplot as plt\n",
    "\n",
    "from sklearn.impute import SimpleImputer\n",
    "from sklearn.preprocessing import StandardScaler\n",
    "from openTSNE import TSNE as oTSNE"
   ]
  },
  {
   "attachments": {},
   "cell_type": "markdown",
   "id": "9883d33a",
   "metadata": {},
   "source": [
    "# 1) Embedding features from STED data"
   ]
  },
  {
   "cell_type": "code",
   "execution_count": null,
   "id": "c3f76c54-f961-4384-aa39-60074da9d742",
   "metadata": {},
   "outputs": [],
   "source": [
    "## CSV file with features\n",
    "# features from intensity normaized per image\n",
    "feature_csv = '/scratch/hoerl/auto_sir_dna_comp/20220829_glcm_good95_imagenorm.csv'\n",
    "# alternative: intensity normalized per replicate\n",
    "# feature_csv = '/scratch/hoerl/auto_sir_dna_comp/20220829_glcm_good95_replicatenorm.csv'\n",
    "\n",
    "## CSV with experimental conditions\n",
    "exp_overview_csv = '/scratch/hoerl/auto_sir_experiment_overview.csv'\n",
    "\n",
    "# load the feature csv\n",
    "df = pd.read_csv(feature_csv)\n",
    "\n",
    "# get file stem for merge with standardized replicate names\n",
    "df['file_stem'] = df.filename.apply(lambda f: Path(f).stem)\n",
    "\n",
    "# remove one outlying replicate (looks blurry -> air bubble/dirty objective?)\n",
    "df = df[~df[['cell_class', 'replicate']].isin([('IMR90_young_untreated', '20200705_rep2')]).all(axis=1)]\n",
    "\n",
    "# read and add standardized replicate/condition info\n",
    "df_exp_overview = pd.read_csv(exp_overview_csv, sep=';')[['file', 'treatment', 'replicate_technical', 'replicate_biological', 'overlapping_tiles']]\n",
    "df_exp_overview['replicate_technical'] = df_exp_overview['replicate_technical'].apply(str)\n",
    "df_exp_overview['replicate_biological'] = df_exp_overview['replicate_biological'].apply(str)\n",
    "\n",
    "df = df.merge(df_exp_overview, left_on='file_stem', right_on='file', suffixes=(None, '_duplicate') )\n",
    "\n",
    "# auxillary columns for grouping\n",
    "df['treatment_icm_grouped'] = df.treatment.str.split('_').str[-1]\n",
    "df['replicate_biological_with_treat'] = df['treatment'] + '_' + df['replicate_biological']"
   ]
  },
  {
   "cell_type": "code",
   "execution_count": null,
   "id": "3658eebc-668c-4cff-9596-836e11dff2ef",
   "metadata": {},
   "outputs": [],
   "source": [
    "# quick counts\n",
    "df.groupby(['treatment', 'replicate_biological']).size()"
   ]
  },
  {
   "cell_type": "code",
   "execution_count": null,
   "id": "a2dc4dff-74cb-4040-baa3-1ec74f16a4ff",
   "metadata": {},
   "outputs": [],
   "source": [
    "## get features\n",
    "\n",
    "# drop non-features and auxillary features\n",
    "columns_to_drop = [\n",
    "    'file', 'file_stem', 'treatment', 'replicate_technical', 'replicate_biological', 'overlapping_tiles',\n",
    "    'dataset_name', 'filename', 'replicate', 'cell_class', 'condition',\n",
    "    'treatment_icm_grouped', 'replicate_biological_with_treat',\n",
    "    'classification_manual', 'classification_auto',\n",
    "    'img_height', 'img_width', \n",
    "    #  'mask_area',\n",
    "    'num_blank_rows', 'num_blank_cols',\n",
    "    #  'intensity_mu', 'intensity_sigma', \n",
    "    'perc_high', 'perc_low', 'fg_mean',\n",
    "    'perc_high_image', 'perc_low_image'\n",
    "] \n",
    "\n",
    "df_feats = df.drop(columns=columns_to_drop)\n",
    "tex_values = df_feats.values\n",
    "\n",
    "# we have NaNs -> impute\n",
    "tex_values = SimpleImputer().fit_transform(tex_values)\n",
    "\n",
    "# normalize features\n",
    "scaler = StandardScaler()\n",
    "tex_values = scaler.fit_transform(tex_values)"
   ]
  },
  {
   "cell_type": "code",
   "execution_count": null,
   "id": "0fc9fbf6-da32-4983-88e2-bfa3d560f1b8",
   "metadata": {},
   "outputs": [],
   "source": [
    "# calculate tSNE\n",
    "ts = oTSNE(perplexity=200, n_jobs=-1).fit(tex_values).transform(tex_values)\n",
    "\n",
    "df[['embedding_comp0', 'embedding_comp1']] = ts"
   ]
  },
  {
   "cell_type": "code",
   "execution_count": null,
   "id": "67dfc3f6",
   "metadata": {},
   "outputs": [],
   "source": [
    "fig, axs = plt.subplots(ncols=3, figsize=(28,8))\n",
    "\n",
    "sns.set_palette('deep')\n",
    "\n",
    "# group_col = 'treatment'\n",
    "# hue_col = 'replicate_biological'\n",
    "\n",
    "group_col = 'treatment_icm_grouped'\n",
    "hue_col = 'replicate_biological_with_treat'\n",
    "\n",
    "\n",
    "for ax, (i, dfi) in zip(axs, df.groupby(group_col)):\n",
    "\n",
    "    df_others = df[df[group_col] != i]\n",
    "\n",
    "    sns.scatterplot(ax=ax, data=df_others, x='embedding_comp0', y='embedding_comp1', color='lightgray', alpha=1, s=25)\n",
    "    # sns.scatterplot(ax=ax, data=dfi.reset_index().sample(frac=1), x='embedding_comp0', y='embedding_comp1', color='firebrick', alpha=0.6, s=25)\n",
    "    sns.scatterplot(ax=ax, data=dfi, x='embedding_comp0', y='embedding_comp1', hue=hue_col, alpha=1, s=25)\n",
    "    ax.set_title(f'{i} ({len(dfi)} cells)')\n",
    "    ax.set_xlabel('t-SNE component 1')\n",
    "    ax.set_ylabel('t-SNE component 2')\n",
    "\n",
    "plt.rc('pdf', fonttype='42')\n",
    "fig.savefig('/home/hoerl/ageing_dna_texture_figure_parts/tsne_per-treatment_sted.pdf')"
   ]
  },
  {
   "attachments": {},
   "cell_type": "markdown",
   "id": "7c3c83d2",
   "metadata": {},
   "source": [
    "### Plot example images from parts of embedding"
   ]
  },
  {
   "cell_type": "code",
   "execution_count": null,
   "id": "e78bf084",
   "metadata": {},
   "outputs": [],
   "source": [
    "import h5py as h5\n",
    "from skimage.exposure import rescale_intensity\n",
    "\n",
    "def load_single_image_from_h5(filename, dataset_name, norm_quantiles):\n",
    "    with h5.File(filename, 'r') as fd:\n",
    "        img = fd[f'/experiment/{dataset_name}/0/0'][...].squeeze()\n",
    "    return rescale_intensity(img.astype(np.float32), in_range=norm_quantiles)\n",
    "\n",
    "\n",
    "def plot_examples_sted(df, selection_pos, selection_size, n_imgs_to_sample = 2, plot=True):\n",
    "    selection = ((df[['embedding_comp0', 'embedding_comp1']] < (np.array(selection_pos) + np.array(selection_size))).all(axis=1) & \n",
    "                (df[['embedding_comp0', 'embedding_comp1']] > np.array(selection_pos)).all(axis=1))\n",
    "\n",
    "    df_selection = df[selection]  \n",
    "\n",
    "    imgs = []\n",
    "    sample = df_selection[['filename', 'dataset_name', 'perc_low', 'perc_high', 'treatment', 'replicate_biological', 'replicate_technical']].sample(n_imgs_to_sample)\n",
    "    for _, (filename, dataset_name, perc_low, perc_high, _, _, _) in sample.iterrows():\n",
    "        imgs.append(load_single_image_from_h5(filename, dataset_name, (perc_low, perc_high)))\n",
    "\n",
    "    if plot:\n",
    "        fig, axs = plt.subplots(ncols=n_imgs_to_sample, figsize=(12,6))\n",
    "        for ax, img_ in zip(axs.flat, imgs):\n",
    "            ax.imshow(img_, cmap='gray')\n",
    "            ax.axis('off')\n",
    "        fig.tight_layout()\n",
    "\n",
    "    return imgs, sample"
   ]
  },
  {
   "cell_type": "code",
   "execution_count": null,
   "id": "dde7f4f8",
   "metadata": {},
   "outputs": [],
   "source": [
    "from matplotlib.patches import Rectangle\n",
    "\n",
    "# MANUAL selection, alternatively define in napari, see below\n",
    "selection_positions = [\n",
    "    (3, -20), # treat 1\n",
    "    (20, 5), # treat 2\n",
    "    (-5, -8), # young 2\n",
    "    (-25, 5) # old grainy\n",
    "]\n",
    "selection_sizes = [(7, 7)] * len(selection_positions) \n",
    "\n",
    "# select single index to plot\n",
    "idx = 1\n",
    "selection_pos = selection_positions[idx]\n",
    "selection_size = selection_sizes[idx]\n",
    "\n",
    "def scatterplot_with_rectangle(df, selection_pos, selection_size):\n",
    "    _, ax = plt.subplots(figsize=(8,8))\n",
    "    sns.scatterplot(ax=ax, data=df, x='embedding_comp0', y='embedding_comp1', color='lightgray', alpha=1, s=25)\n",
    "\n",
    "    rec = Rectangle(selection_pos, *selection_size, fill=None, color='red')\n",
    "    ax.add_artist(rec)\n",
    "\n",
    "scatterplot_with_rectangle(df, selection_pos, selection_size)\n",
    "plot_examples_sted(df, selection_pos, selection_size);"
   ]
  },
  {
   "attachments": {},
   "cell_type": "markdown",
   "id": "ca8d5de9",
   "metadata": {},
   "source": [
    "### Save examples and tSNE with rectangle for all selections"
   ]
  },
  {
   "cell_type": "code",
   "execution_count": null,
   "id": "9105cb23",
   "metadata": {},
   "outputs": [],
   "source": [
    "from tifffile import imwrite\n",
    "\n",
    "base_out_path = Path('/home/hoerl/ageing_dna_texture_figure_parts/')\n",
    "\n",
    "for i, (selection_pos, selection_size) in enumerate(zip(selection_positions, selection_sizes)):\n",
    "    \n",
    "    outpath_i = base_out_path / f'sted_examples_selection_{i}'\n",
    "    outpath_i.mkdir(exist_ok=True)\n",
    "\n",
    "    scatterplot_with_rectangle(df, selection_pos, selection_size)\n",
    "    \n",
    "    plt.rc('pdf', fonttype='42')\n",
    "    plt.savefig(outpath_i / f'tsne_selection{i}_sted.pdf')\n",
    "\n",
    "    sample_imgs, df_sample = plot_examples_sted(df, selection_pos, selection_size, n_imgs_to_sample=14, plot=False)\n",
    "\n",
    "    for (_, r), c in zip(df_sample.iterrows(), sample_imgs):\n",
    "        fname = f'{Path(r.filename).stem}_{r.dataset_name}_{r.treatment}_{r.replicate_biological}_{r.replicate_technical}.tif'\n",
    "        imwrite(outpath_i / fname, c, imagej=True)"
   ]
  },
  {
   "attachments": {},
   "cell_type": "markdown",
   "id": "173458fe-5ff8-4467-af91-e553760b3322",
   "metadata": {},
   "source": [
    "# 2) Embedding of features from overview data"
   ]
  },
  {
   "cell_type": "code",
   "execution_count": null,
   "id": "20e2d603-629b-456d-a5e2-d96c7de17658",
   "metadata": {},
   "outputs": [],
   "source": [
    "from pathlib import Path\n",
    "\n",
    "## 1) read both texture and other feature tables, join\n",
    "\n",
    "# NOTE: select global norm texture feats or per cell normalized\n",
    "csv_feats_texture = '/scratch/hoerl/20230507_imr90_stitching/20230507_imr90_ov_stitch_output/segmentation_cellpose_maxproj_d70_ft07/texture_feats.csv'\n",
    "# csv_feats_texture = '/scratch/hoerl/20230507_imr90_stitching/20230507_imr90_ov_stitch_output/segmentation_cellpose_maxproj_d70_ft07/texture_feats_normalized_per_cell.csv'\n",
    "csv_feats_other = '/scratch/hoerl/20230507_imr90_stitching/20230507_imr90_ov_stitch_output/segmentation_cellpose_maxproj_d70_ft07/other_feats.csv'\n",
    "\n",
    "## Spinning disk data (not used atm)\n",
    "# csv_feats_texture = '/Users/david/Desktop/IMR90_30112022/segmentation_cellpose_d120_ft06/texture_feats.csv'\n",
    "# csv_feats_texture = '/Users/david/Desktop/IMR90_30112022/segmentation_cellpose_d120_ft06/texture_feats_normalized_per_cell.csv'\n",
    "# csv_feats_other = '/Users/david/Desktop/IMR90_30112022/segmentation_cellpose_d120_ft06/other_feats.csv'\n",
    "\n",
    "df = pd.read_csv(csv_feats_texture).set_index(['file', 'label'])\n",
    "df = df.merge(pd.read_csv(csv_feats_other), on=['file', 'label'])\n",
    "\n",
    "df['file_stem'] = df.reset_index().file.apply(lambda f: Path(f).stem)\n"
   ]
  },
  {
   "cell_type": "code",
   "execution_count": null,
   "id": "6159acde",
   "metadata": {},
   "outputs": [],
   "source": [
    "exp_overview_csv = '/scratch/hoerl/auto_sir_experiment_overview.csv'\n",
    "df_exp_overview = pd.read_csv(exp_overview_csv, sep=';')[['file', 'treatment', 'replicate_technical', 'replicate_biological', 'overlapping_tiles']]\n",
    "df_exp_overview['replicate_technical'] = df_exp_overview['replicate_technical'].apply(str)\n",
    "df_exp_overview['replicate_biological'] = df_exp_overview['replicate_biological'].apply(str)\n",
    "\n",
    "df = df.merge(df_exp_overview, left_on='file_stem', right_on='file', suffixes=(None, '_duplicate') )\n",
    "\n",
    "# remove non-overlapping overviews (run 3f2f7d32d280ce05293143834aa15a08)\n",
    "df = df[df.overlapping_tiles]"
   ]
  },
  {
   "cell_type": "code",
   "execution_count": null,
   "id": "bc618b55",
   "metadata": {},
   "outputs": [],
   "source": [
    "df['treatment_icm_grouped'] = df.treatment.str.split('_').str[-1]\n",
    "df['replicate_biological_with_treat'] = df['treatment'] + '_' + df['replicate_biological']"
   ]
  },
  {
   "cell_type": "code",
   "execution_count": null,
   "id": "441114fb",
   "metadata": {},
   "outputs": [],
   "source": [
    "df['replicate_technical'] = df['replicate_technical'].apply(str)\n",
    "df['replicate_biological'] = df['replicate_biological'].apply(str)"
   ]
  },
  {
   "cell_type": "code",
   "execution_count": null,
   "id": "32beb4f5",
   "metadata": {},
   "outputs": [],
   "source": [
    "# set index again\n",
    "df = df.set_index(['file', 'label'])\n",
    "\n",
    "df"
   ]
  },
  {
   "cell_type": "code",
   "execution_count": null,
   "id": "15b20458-d7d6-4b42-a642-607a197289a4",
   "metadata": {},
   "outputs": [],
   "source": [
    "## 2) prepare features\n",
    "\n",
    "# get all columns that start with 'tex' --> texture features\n",
    "tex_values = df[[c for c in df.columns if c.startswith('tex')] + ['other_mean_intensity', 'other_area', 'other_eccentricity']].values\n",
    "\n",
    "# we have NaNs -> impute\n",
    "# probably not necessary here, but copied from above anyway\n",
    "tex_values = SimpleImputer().fit_transform(tex_values)\n",
    "\n",
    "# normalize features\n",
    "scaler = StandardScaler()\n",
    "tex_values = scaler.fit_transform(tex_values)"
   ]
  },
  {
   "cell_type": "code",
   "execution_count": null,
   "id": "81e2d120-9a4f-49f7-8c7d-fdcf79d5cc50",
   "metadata": {},
   "outputs": [],
   "source": [
    "# calculate tSNE\n",
    "\n",
    "ts = oTSNE(perplexity=100, n_jobs=-1).fit(tex_values).transform(tex_values)\n",
    "\n",
    "df[['embedding_comp0', 'embedding_comp1']] = ts"
   ]
  },
  {
   "cell_type": "code",
   "execution_count": null,
   "id": "1f466b32",
   "metadata": {},
   "outputs": [],
   "source": [
    "fig, axs = plt.subplots(ncols=3, figsize=(28,8))\n",
    "\n",
    "sns.set_palette('deep')\n",
    "\n",
    "# group_col = 'treatment'\n",
    "# hue_col = 'replicate_biological'\n",
    "\n",
    "group_col = 'treatment_icm_grouped'\n",
    "hue_col = 'replicate_biological_with_treat'\n",
    "\n",
    "\n",
    "for ax, (i, dfi) in zip(axs, df.groupby(group_col)):\n",
    "\n",
    "    df_others = df[df[group_col] != i]\n",
    "\n",
    "    sns.scatterplot(ax=ax, data=df_others, x='embedding_comp0', y='embedding_comp1', color='lightgray', alpha=1, s=25)\n",
    "    # sns.scatterplot(ax=ax, data=dfi.reset_index().sample(frac=1), x='embedding_comp0', y='embedding_comp1', color='firebrick', alpha=0.6, s=25)\n",
    "    sns.scatterplot(ax=ax, data=dfi, x='embedding_comp0', y='embedding_comp1', hue=hue_col, alpha=1, s=25)\n",
    "    ax.set_title(f'{i} ({len(dfi)} cells)')\n",
    "    ax.set_xlabel('t-SNE component 1')\n",
    "    ax.set_ylabel('t-SNE component 2')\n",
    "\n",
    "# save\n",
    "plt.rc('pdf', fonttype='42')\n",
    "# fig.savefig('/home/hoerl/ageing_dna_texture_figure_parts/tsne_per-treatment_confocal.pdf')"
   ]
  },
  {
   "attachments": {},
   "cell_type": "markdown",
   "id": "548f64de",
   "metadata": {},
   "source": [
    "### Plots split into young / old / 3d / 6d&9d"
   ]
  },
  {
   "cell_type": "code",
   "execution_count": null,
   "id": "490e8327",
   "metadata": {},
   "outputs": [],
   "source": [
    "# add column grouping 3d icm and 6&9d icm separately \n",
    "treatment_map = {\n",
    "    'old': 'old',\n",
    "    'young': 'young',\n",
    "    '3d_icm': '3d_icm',\n",
    "    '6d_icm': '6d_9d_icm',\n",
    "    '9d_icm': '6d_9d_icm',\n",
    "}\n",
    "df['treatment_icm_grouped_2'] = df.treatment.apply(lambda t: treatment_map[t])\n",
    "\n",
    "# check\n",
    "df['treatment_icm_grouped_2'].unique()"
   ]
  },
  {
   "cell_type": "code",
   "execution_count": null,
   "id": "0e475aa6",
   "metadata": {},
   "outputs": [],
   "source": [
    "import colorsys\n",
    "import numpy as np\n",
    "from matplotlib import pyplot as plt\n",
    "from matplotlib import colors as mcolors\n",
    "\n",
    "def get_colors_as_img(rgb_colors, patch_size=(50, 50), conc_axis=1):\n",
    "    patches = []\n",
    "    for c in rgb_colors:\n",
    "        patches.append(np.zeros(patch_size + (3,)) + np.array(c))\n",
    "    img = np.concatenate(patches, conc_axis)\n",
    "    return img\n",
    "\n",
    "def get_l_shades(rgb_color, n=5, extent=0.4, min_l=0.2, max_l=1):\n",
    "    if max_l - min_l < extent:\n",
    "        raise ValueError(f'luminance extent {extent} is larger than max {max_l} - min {min_l} difference.')\n",
    "    h, l, s = colorsys.rgb_to_hls(*rgb_color)\n",
    "\n",
    "    l_shades = [colorsys.hls_to_rgb(h, lp, s) for lp in np.linspace(max(min_l, l - extent/2), min(max_l, l + extent/2), n)]\n",
    "    return l_shades\n",
    "\n",
    "palettes = {\n",
    "    # 'old': get_l_shades(mcolors.hex2color(mcolors.XKCD_COLORS['xkcd:blue purple']), n=3, min_l=0.4, extent=0.5),\n",
    "    'old': get_l_shades(np.array([117, 109, 169])/255, n=3, min_l=0.5, extent=0.3),\n",
    "    'young': get_l_shades(mcolors.hex2color(mcolors.XKCD_COLORS['xkcd:light orange']), n=3, min_l=0.5, extent=0.4),\n",
    "    '3d_icm': get_l_shades(mcolors.hex2color(mcolors.XKCD_COLORS['xkcd:sky blue']), n=2, max_l=0.7, extent=0.39),\n",
    "    # '6d_9d_icm': get_l_shades(mcolors.hex2color(mcolors.XKCD_COLORS['xkcd:sky blue']), n=5, extent=0.6, min_l=0, max_l=0.7)\n",
    "    '6d_9d_icm': get_l_shades(np.array([148, 212, 220])/255, n=5, extent=0.6, min_l=0, max_l=0.7)\n",
    "}\n",
    "\n",
    "for k, v in palettes.items():\n",
    "    fig, ax = plt.subplots()\n",
    "    ax.imshow(get_colors_as_img(v))\n",
    "    ax.set_title(k)\n"
   ]
  },
  {
   "cell_type": "code",
   "execution_count": null,
   "id": "bc70ab92",
   "metadata": {},
   "outputs": [],
   "source": [
    "group_col = 'treatment_icm_grouped_2'\n",
    "hue_col = 'replicate_biological_with_treat'\n",
    "\n",
    "for (i, dfi) in df.groupby(group_col):\n",
    "    \n",
    "    dfi = dfi.sort_values(hue_col)\n",
    "\n",
    "    # get all cells not in current group\n",
    "    df_others = df[df[group_col] != i]\n",
    "\n",
    "    fig, ax = plt.subplots(figsize=(8,8))\n",
    "\n",
    "    # plot others in gray\n",
    "    sns.scatterplot(ax=ax, data=df_others, x='embedding_comp0', y='embedding_comp1', color='lightgray', alpha=1, s=25, label='others')\n",
    "    \n",
    "    # plot group in color\n",
    "    sns.scatterplot(ax=ax, data=dfi, x='embedding_comp0', y='embedding_comp1', palette=reversed(palettes[i]), hue=hue_col, alpha=1, s=25)\n",
    "    ax.set_title(f'{i} ({len(dfi)} cells)')\n",
    "    ax.set_xlabel('t-SNE component 1')\n",
    "    ax.set_ylabel('t-SNE component 2')\n",
    "\n",
    "    # save\n",
    "    plt.rc('pdf', fonttype='42')\n",
    "    fig.savefig(f'/home/hoerl/ageing_dna_texture_figure_parts/tsne_per-treatment_confocal_v2_{i}.pdf')\n",
    "\n"
   ]
  },
  {
   "attachments": {},
   "cell_type": "markdown",
   "id": "88f9c342",
   "metadata": {},
   "source": [
    "### functions for extracting examples from part of embedding"
   ]
  },
  {
   "cell_type": "code",
   "execution_count": null,
   "id": "38173183",
   "metadata": {},
   "outputs": [],
   "source": [
    "from nd2reader import ND2Reader\n",
    "from pathlib import Path\n",
    "from tifffile import memmap\n",
    "from scipy.ndimage import gaussian_filter\n",
    "\n",
    "\n",
    "def plot_examples_nd2(df, selection_pos, selection_size, base_path, n_imgs_to_sample = 6, plot=True):\n",
    "    selection = ((df[['embedding_comp0', 'embedding_comp1']] < (np.array(selection_pos) + np.array(selection_size))).all(axis=1) & \n",
    "                (df[['embedding_comp0', 'embedding_comp1']] > np.array(selection_pos)).all(axis=1))\n",
    "\n",
    "    df_selection = df[selection]\n",
    "    df_sample = df_selection.sample(n_imgs_to_sample)\n",
    "\n",
    "    sample_cuts = []\n",
    "    for (file, lab), props in df_sample.iterrows():\n",
    "        with ND2Reader(str(base_path / file)) as reader:\n",
    "            y0, x0, y1, x1 = props[[f'other_bbox-{i}' for i in range(4)]].values.astype(int)\n",
    "            img_ = np.array(reader[0][y0:y1, x0:x1])\n",
    "            sample_cuts.append(img_)\n",
    "\n",
    "    if plot:\n",
    "        fig, axs = plt.subplots(ncols=3, nrows=2, figsize=(12,9))\n",
    "        for ax, img_ in zip(axs.flat, sample_cuts):\n",
    "            ax.imshow(img_, cmap='gray')\n",
    "            ax.axis('off')\n",
    "        fig.tight_layout()\n",
    "\n",
    "    return sample_cuts, df_sample\n",
    "\n",
    "\n",
    "def plot_examples_tiffstack(df, selection_pos, selection_size, base_path, n_imgs_to_sample = 3, plot=True, pad_bbox=0):\n",
    "    selection = ((df[['embedding_comp0', 'embedding_comp1']] < (np.array(selection_pos) + np.array(selection_size))).all(axis=1) & \n",
    "                (df[['embedding_comp0', 'embedding_comp1']] > np.array(selection_pos)).all(axis=1))\n",
    "\n",
    "    df_selection = df[selection]\n",
    "    df_sample = df_selection.sample(n_imgs_to_sample)\n",
    "\n",
    "    sample_cuts = []\n",
    "    for (file, lab), props in df_sample.iterrows():\n",
    "        img_ = memmap(base_path / file)\n",
    "        y0, x0, y1, x1 = props[[f'other_bbox-{i}' for i in range(4)]].values.astype(int)\n",
    "\n",
    "        # cut a bit more, make sure we remain inside img\n",
    "        y0 -= pad_bbox\n",
    "        y0 = 0 if y0<0 else y0\n",
    "        x0 -= pad_bbox\n",
    "        x0 = 0 if x0<0 else x0\n",
    "\n",
    "        y1 += pad_bbox\n",
    "        y1 = img_.shape[1] if y1 > img_.shape[1] else y1\n",
    "        x1 += pad_bbox\n",
    "        x1 = img_.shape[2] if x1 > img_.shape[2] else x1\n",
    "\n",
    "        img_ = img_[:, y0:y1, x0:x1].max(axis=0)\n",
    "        sample_cuts.append(gaussian_filter(img_, 0.5))\n",
    "    \n",
    "    if plot:\n",
    "        fig, axs = plt.subplots(ncols=3, nrows=1, figsize=(12,6))\n",
    "        for ax, img_ in zip(axs.flat, sample_cuts):\n",
    "            ax.imshow(img_, cmap='gray')\n",
    "            ax.axis('off')\n",
    "        fig.tight_layout()\n",
    "        \n",
    "    return sample_cuts, df_sample\n"
   ]
  },
  {
   "cell_type": "code",
   "execution_count": null,
   "id": "2aea1a61",
   "metadata": {},
   "outputs": [],
   "source": [
    "from matplotlib.patches import Rectangle\n",
    "\n",
    "# MANUAL selection, alternatively define in napari, see below\n",
    "selection_positions = [\n",
    "    (-30, -20), # treated 1\n",
    "    (-40, 5), # treated 2\n",
    "    (-5, 25), # treated 3 (young-like)\n",
    "    (-15, -5), # old 1\n",
    "    (10, -25), # young 1\n",
    "    (10, -5), # young 2\n",
    "]\n",
    "\n",
    "selection_sizes = [(10, 10)] * len(selection_positions) \n",
    "\n",
    "# select single index to plot\n",
    "idx = 1\n",
    "selection_pos = selection_positions[idx]\n",
    "selection_size = selection_sizes[idx]\n",
    "\n",
    "# base_path = Path('/Users/david/Desktop/IMR90_30112022/')\n",
    "base_path = Path('/scratch/hoerl/20230507_imr90_stitching/20230507_imr90_ov_stitch_output')\n",
    "\n",
    "def scatterplot_with_rectangle(df, selection_pos, selection_size):\n",
    "    _, ax = plt.subplots(figsize=(8,8))\n",
    "    sns.scatterplot(ax=ax, data=df, x='embedding_comp0', y='embedding_comp1', color='lightgray', alpha=1, s=25)\n",
    "\n",
    "    rec = Rectangle(selection_pos, *selection_size, fill=None, color='red')\n",
    "    ax.add_artist(rec)\n",
    "\n",
    "scatterplot_with_rectangle(df, selection_pos, selection_size)\n",
    "plot_examples_tiffstack(df, selection_pos, selection_size, base_path, pad_bbox=10);"
   ]
  },
  {
   "cell_type": "code",
   "execution_count": null,
   "id": "f9d1ebc5",
   "metadata": {},
   "outputs": [],
   "source": [
    "# do multiple example plots of rectanglualr bboxes in embedding\n",
    "\n",
    "from tifffile import imwrite\n",
    "\n",
    "base_out_path = Path('/home/hoerl/ageing_dna_texture_figure_parts/')\n",
    "\n",
    "for i, (selection_pos, selection_size) in enumerate(zip(selection_positions, selection_sizes)):\n",
    "    \n",
    "    outpath_i = base_out_path / f'confocal_examples_selection_{i}'\n",
    "    outpath_i.mkdir(exist_ok=True)\n",
    "\n",
    "    scatterplot_with_rectangle(df, selection_pos, selection_size)\n",
    "    \n",
    "    plt.rc('pdf', fonttype='42')\n",
    "    plt.savefig(outpath_i / f'tsne_selection{i}_confocal.pdf')\n",
    "\n",
    "    sample_imgs, df_sample = plot_examples_tiffstack(df, selection_pos, selection_size, base_path, n_imgs_to_sample=14, plot=False, pad_bbox=10)\n",
    "\n",
    "    for ((f, lab), r), c in zip(df_sample.iterrows(), sample_imgs): \n",
    "        fname = f'{r.file_stem}_{lab}_{r.treatment}_{r.replicate_biological}_{r.replicate_technical}.tif'\n",
    "        imwrite(outpath_i / fname, rescale_intensity(c.astype(np.float32)), imagej=True)"
   ]
  },
  {
   "attachments": {},
   "cell_type": "markdown",
   "id": "f4bc11df",
   "metadata": {},
   "source": [
    "### Optional: define selections in napari"
   ]
  },
  {
   "cell_type": "code",
   "execution_count": null,
   "id": "693b2957",
   "metadata": {},
   "outputs": [],
   "source": [
    "import napari\n",
    "\n",
    "if napari.current_viewer() is not None:\n",
    "    napari.current_viewer().close()\n",
    "\n",
    "viewer = napari.view_points(df[['embedding_comp0','embedding_comp1']], size=3, edge_width=0.3, face_color='lightblue', edge_color='gray')\n",
    "viewer.add_shapes() # add empty shape layer"
   ]
  },
  {
   "cell_type": "code",
   "execution_count": null,
   "id": "4f882563",
   "metadata": {},
   "outputs": [],
   "source": [
    "# get rectangles (or bounding boxes of other shapes) from shape layer\n",
    "viewer.layers[1].data\n",
    "\n",
    "selection_positions = []\n",
    "selection_sizes = []\n",
    "\n",
    "for arr in viewer.layers[1].data:\n",
    "    min_selection = np.min(arr, axis=0)\n",
    "    max_selection = np.max(arr, axis=0)\n",
    "    selection_size_i = max_selection - min_selection\n",
    "    selection_positions.append(min_selection)\n",
    "    selection_sizes.append(selection_size_i)\n",
    "\n",
    "# selection_positions, selection_sizes"
   ]
  },
  {
   "attachments": {},
   "cell_type": "markdown",
   "id": "5e3d226c",
   "metadata": {},
   "source": [
    "### Plot embedding colored by simple features"
   ]
  },
  {
   "cell_type": "code",
   "execution_count": null,
   "id": "cc9fedc5-40d1-4690-b1f1-1f28a795719c",
   "metadata": {},
   "outputs": [],
   "source": [
    "sns.set_palette('bright')\n",
    "\n",
    "fig, axs = plt.subplots(nrows=3, figsize=(8,23))\n",
    "sns.scatterplot(ax=axs[0], data=df, x='embedding_comp0', y='embedding_comp1', hue='other_mean_intensity', alpha=0.85, s=50)\n",
    "sns.scatterplot(ax=axs[1], data=df, x='embedding_comp0', y='embedding_comp1', hue='other_area', alpha=0.85, s=50)\n",
    "sns.scatterplot(ax=axs[2], data=df, x='embedding_comp0', y='embedding_comp1', hue='other_eccentricity', alpha=0.85, s=50)\n",
    "# plt.xlabel('tSNE comp. 1'); plt.ylabel('tSNE comp. 2');\n",
    "fig.tight_layout()"
   ]
  },
  {
   "attachments": {},
   "cell_type": "markdown",
   "id": "d68902e5",
   "metadata": {},
   "source": [
    "# Old/testing code"
   ]
  },
  {
   "cell_type": "code",
   "execution_count": null,
   "id": "16d41da7",
   "metadata": {},
   "outputs": [],
   "source": [
    "# for spinning disk data: get growth surface from filename\n",
    "# PL-.... or glass-....\n",
    "df['growth_surface'] = df.file.str.split('-', expand=True)[0]"
   ]
  },
  {
   "cell_type": "code",
   "execution_count": null,
   "id": "bb22c6db",
   "metadata": {},
   "outputs": [],
   "source": [
    "# select only one replicate\n",
    "df = df[df['replicate_biological'] == '1']"
   ]
  },
  {
   "cell_type": "code",
   "execution_count": null,
   "id": "fe2892ce",
   "metadata": {},
   "outputs": [],
   "source": [
    "sns.boxplot(data=df, x='treatment', y='other_area')"
   ]
  },
  {
   "cell_type": "code",
   "execution_count": null,
   "id": "024175bb",
   "metadata": {},
   "outputs": [],
   "source": [
    "from sklearn.cluster import KMeans\n",
    "\n",
    "cluster_pred = KMeans(10).fit_predict(tex_values)\n",
    "df['cluster_pred'] = cluster_pred.astype(str)"
   ]
  },
  {
   "cell_type": "code",
   "execution_count": null,
   "id": "3fafc494",
   "metadata": {},
   "outputs": [],
   "source": [
    "df.groupby(['cluster_pred', 'treatment']).count()"
   ]
  },
  {
   "cell_type": "code",
   "execution_count": null,
   "id": "6056832b",
   "metadata": {},
   "outputs": [],
   "source": [
    "remove_features_above_quantile = 0.95\n",
    "\n",
    "sorted_feature_magnitude = np.argsort(np.linalg.norm(tex_values, axis=1))\n",
    "tex_values = tex_values[sorted_feature_magnitude[:int(len(sorted_feature_magnitude) * remove_features_above_quantile)]]\n",
    "\n",
    "df = df.iloc[sorted_feature_magnitude[:int(len(sorted_feature_magnitude) * remove_features_above_quantile)]]\n",
    "# len(tex_values), int(len(sorted_feature_magnitude) * remove_features_above_quantile)"
   ]
  },
  {
   "attachments": {},
   "cell_type": "markdown",
   "id": "5323c27f-52da-4845-b641-5d16742d3df9",
   "metadata": {},
   "source": [
    "### embedding colored by growth surface (spinning disk data only)"
   ]
  },
  {
   "cell_type": "code",
   "execution_count": null,
   "id": "b8f80911-c975-412a-bcef-826e4460fda4",
   "metadata": {},
   "outputs": [],
   "source": [
    "sns.set_palette('bright')\n",
    "\n",
    "fig, axs = plt.subplots(nrows=2, figsize=(8,16))\n",
    "\n",
    "sns.scatterplot(ax=axs[1], data=df, x='embedding_comp0', y='embedding_comp1', hue='growth_surface', alpha=0.85, s=50)\n",
    "# plt.xlabel('tSNE comp. 1'); plt.ylabel('tSNE comp. 2');\n",
    "\n",
    "fig.tight_layout()"
   ]
  },
  {
   "cell_type": "code",
   "execution_count": null,
   "id": "5f79ddf7",
   "metadata": {},
   "outputs": [],
   "source": [
    "fig, ax = plt.subplots(figsize=(8,8))\n",
    "sns.scatterplot(ax=ax, data=df.reset_index().sample(frac=1), x='embedding_comp0', y='embedding_comp1', \n",
    "                hue='treatment', hue_order=['3d_icm', 'young', 'old', '9d_icm', '6d_icm'], alpha=0.1, s=50)"
   ]
  },
  {
   "attachments": {},
   "cell_type": "markdown",
   "id": "eb10d805",
   "metadata": {},
   "source": [
    "## Make summary csv of autoSTED experiments\n",
    "\n",
    "For manual curation of condition table"
   ]
  },
  {
   "cell_type": "code",
   "execution_count": null,
   "id": "1a9e3095",
   "metadata": {},
   "outputs": [],
   "source": [
    "import glob\n",
    "import os\n",
    "from pathlib import Path\n",
    "\n",
    "basepath = '/data/cooperation_data/ArgyrisPapantonis-nuclear_architecture/Simona_Nasiscionyte/STED'\n",
    "h5s = glob.glob(os.path.join(basepath, '**/*.h5'), recursive=True)\n",
    "\n",
    "paths = [os.path.relpath(h, basepath) for h in h5s]\n",
    "files = [Path(p).stem for p in paths]\n",
    "\n",
    "df = pd.DataFrame({'path' : paths, 'file': files})\n",
    "df['experiment_group'] = df.path.str.split('/').str[0]\n",
    "\n",
    "df\n",
    "# df.to_csv('~/auto_sir_experiment_overview.csv')"
   ]
  }
 ],
 "metadata": {
  "kernelspec": {
   "display_name": "Python 3",
   "language": "python",
   "name": "python3"
  },
  "language_info": {
   "codemirror_mode": {
    "name": "ipython",
    "version": 3
   },
   "file_extension": ".py",
   "mimetype": "text/x-python",
   "name": "python",
   "nbconvert_exporter": "python",
   "pygments_lexer": "ipython3",
   "version": "3.8.8"
  },
  "vscode": {
   "interpreter": {
    "hash": "00453e6b23e592fd985b221f7a2ff9a867d70202f05b902cf3ca1018caf28742"
   }
  }
 },
 "nbformat": 4,
 "nbformat_minor": 5
}
